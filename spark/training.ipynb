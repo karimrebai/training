{
 "cells": [
  {
   "cell_type": "code",
   "execution_count": 1,
   "id": "a02d15c0-70b5-4d58-a24f-d0b414fc16e7",
   "metadata": {},
   "outputs": [
    {
     "name": "stdout",
     "output_type": "stream",
     "text": [
      "23/12/13 14:49:32 WARN Utils: Your hostname, krxps resolves to a loopback address: 127.0.1.1; using 192.168.68.61 instead (on interface wlp0s20f3)\n",
      "23/12/13 14:49:32 WARN Utils: Set SPARK_LOCAL_IP if you need to bind to another address\n"
     ]
    },
    {
     "name": "stderr",
     "output_type": "stream",
     "text": [
      "Setting default log level to \"WARN\".\n",
      "To adjust logging level use sc.setLogLevel(newLevel). For SparkR, use setLogLevel(newLevel).\n"
     ]
    },
    {
     "name": "stdout",
     "output_type": "stream",
     "text": [
      "23/12/13 14:49:33 WARN NativeCodeLoader: Unable to load native-hadoop library for your platform... using builtin-java classes where applicable\n"
     ]
    }
   ],
   "source": [
    "from pyspark.context import SparkContext\n",
    "from pyspark.sql.session import SparkSession\n",
    "from pyspark.sql.functions import *\n",
    "from pyspark.sql.types import *\n",
    "sc = SparkContext('local')\n",
    "spark = SparkSession(sc)"
   ]
  },
  {
   "cell_type": "code",
   "execution_count": 2,
   "id": "2b484510-231e-4391-8653-58dbb888320d",
   "metadata": {},
   "outputs": [],
   "source": [
    "df = spark.createDataFrame([(1, \"a\"), (2, \"b\")])"
   ]
  },
  {
   "cell_type": "code",
   "execution_count": 4,
   "id": "aa08828d-6b90-4479-8878-de5e1416cf84",
   "metadata": {},
   "outputs": [
    {
     "name": "stdout",
     "output_type": "stream",
     "text": [
      "+---+---+\n",
      "| _1| _2|\n",
      "+---+---+\n",
      "|  1|  a|\n",
      "+---+---+\n",
      "\n"
     ]
    }
   ],
   "source": [
    "df.filter((col(\"_1\") == 1) | (col(\"_2\") == \"a\")).show()"
   ]
  },
  {
   "cell_type": "code",
   "execution_count": 32,
   "id": "592dbe87-4067-4e3d-a308-c12f642254fb",
   "metadata": {},
   "outputs": [
    {
     "name": "stdout",
     "output_type": "stream",
     "text": [
      "+---+---+----+---+\n",
      "| _1| _2|test| yo|\n",
      "+---+---+----+---+\n",
      "|  1|  a| a_b|  b|\n",
      "|  2|  b| a_b|  b|\n",
      "+---+---+----+---+\n",
      "\n"
     ]
    }
   ],
   "source": [
    "(df\n",
    " .withColumn(\"test\", lit(\"a_b\"))\n",
    " .withColumn(\"yo\", split(col(\"test\"), \"_\")[1])\n",
    " .show()\n",
    ")"
   ]
  },
  {
   "cell_type": "code",
   "execution_count": 38,
   "id": "88bf765c-b56e-4162-9373-a1188ffcb33b",
   "metadata": {},
   "outputs": [
    {
     "name": "stdout",
     "output_type": "stream",
     "text": [
      "+---+---+----+------+---+\n",
      "| _1| _2|test| array| yo|\n",
      "+---+---+----+------+---+\n",
      "|  1|  a| a_b|[a, b]|  a|\n",
      "|  1|  a| a_b|[a, b]|  b|\n",
      "|  2|  b| a_b|[a, b]|  a|\n",
      "|  2|  b| a_b|[a, b]|  b|\n",
      "+---+---+----+------+---+\n",
      "\n"
     ]
    }
   ],
   "source": [
    "(df.withColumn(\"test\", lit(\"a_b\"))\n",
    " .withColumn(\"array\", split(\"test\", \"_\"))\n",
    " .withColumn(\"yo\", explode(col(\"array\")))\n",
    " .show()\n",
    ")"
   ]
  },
  {
   "cell_type": "code",
   "execution_count": 4,
   "id": "3181500b-35e0-4137-89ff-24fffe389fb6",
   "metadata": {},
   "outputs": [
    {
     "name": "stdout",
     "output_type": "stream",
     "text": [
      "+---+---+-----+\n",
      "| _1| _2|upper|\n",
      "+---+---+-----+\n",
      "|  1|  a|    A|\n",
      "|  2|  b|    B|\n",
      "+---+---+-----+\n",
      "\n"
     ]
    }
   ],
   "source": [
    "df.withColumn(\"upper\", upper(col(\"_2\"))).show()"
   ]
  },
  {
   "cell_type": "code",
   "execution_count": 40,
   "id": "e638926a-5cef-45b7-80ab-bb9be20e6e23",
   "metadata": {},
   "outputs": [
    {
     "name": "stdout",
     "output_type": "stream",
     "text": [
      "+---+---+--------------------+-------+\n",
      "| _1| _2|         description| result|\n",
      "+---+---+--------------------+-------+\n",
      "|  1|  a|Description: bla bla|bla bla|\n",
      "|  2|  b|Description: bla bla|bla bla|\n",
      "+---+---+--------------------+-------+\n",
      "\n"
     ]
    }
   ],
   "source": [
    "(df.withColumn(\"description\", lit(\"Description: bla bla\"))\n",
    " .withColumn(\"result\", regexp_replace(\"description\", \"^Description: \", \"\"))\n",
    " .show()\n",
    ")"
   ]
  },
  {
   "cell_type": "code",
   "execution_count": 43,
   "id": "72cdfda2-3059-456f-abfd-2a05338342fb",
   "metadata": {},
   "outputs": [
    {
     "name": "stdout",
     "output_type": "stream",
     "text": [
      "+---+---+----+\n",
      "| id| _2|name|\n",
      "+---+---+----+\n",
      "|  1|  a|   a|\n",
      "|  2|  b|   b|\n",
      "+---+---+----+\n",
      "\n"
     ]
    }
   ],
   "source": [
    "(df.withColumnRenamed(\"_1\", \"id\")\n",
    " .withColumn(\"name\", col(\"_2\"))\n",
    " .show()\n",
    ")"
   ]
  },
  {
   "cell_type": "code",
   "execution_count": 39,
   "id": "be1687ec-7699-4405-9e95-15d06330f19d",
   "metadata": {},
   "outputs": [
    {
     "name": "stdout",
     "output_type": "stream",
     "text": [
      "+---+---+----+\n",
      "| _1| _2|test|\n",
      "+---+---+----+\n",
      "|  1|  a|  yo|\n",
      "|  2|  b|  yo|\n",
      "+---+---+----+\n",
      "\n",
      "+---+---+----+\n",
      "| _1| _2|test|\n",
      "+---+---+----+\n",
      "|  1|  a|  yo|\n",
      "+---+---+----+\n",
      "\n"
     ]
    }
   ],
   "source": [
    "df_with_duplicates = df.withColumn(\"test\", lit(\"yo\"))\n",
    "df_with_duplicates.show()\n",
    "\n",
    "df_with_duplicates.drop_duplicates(subset = [\"test\"]).show()"
   ]
  },
  {
   "cell_type": "code",
   "execution_count": 45,
   "id": "a7d2e8e5-adf8-4f21-8855-7b29481f9666",
   "metadata": {},
   "outputs": [
    {
     "name": "stdout",
     "output_type": "stream",
     "text": [
      "+----+\n",
      "|mean|\n",
      "+----+\n",
      "| 1.5|\n",
      "+----+\n",
      "\n"
     ]
    }
   ],
   "source": [
    "df.agg(mean(col(\"_1\")).alias(\"mean\")).show()"
   ]
  },
  {
   "cell_type": "code",
   "execution_count": 40,
   "id": "e65f31c9-2f73-4fcc-b70f-db4fea9a98a4",
   "metadata": {},
   "outputs": [
    {
     "name": "stdout",
     "output_type": "stream",
     "text": [
      "+------------+\n",
      "|distincCount|\n",
      "+------------+\n",
      "|           2|\n",
      "+------------+\n",
      "\n"
     ]
    }
   ],
   "source": [
    "df.agg(approx_count_distinct(col(\"_1\"), 0.15).alias(\"distincCount\")).show()"
   ]
  },
  {
   "cell_type": "code",
   "execution_count": 57,
   "id": "6197c037-be2f-4201-8d25-e7c42fb448d2",
   "metadata": {},
   "outputs": [],
   "source": [
    "assert df.orderBy(\"_1\", ascending=False).select(\"_1\").first()._1 == 2\n",
    "assert df.sort(col(\"_1\").desc()).first()._1 == 2 \n",
    "assert df.sort(desc(\"_1\")).first()._1 == 2\n"
   ]
  },
  {
   "cell_type": "code",
   "execution_count": 58,
   "id": "dfbde297-6f2a-449c-93ae-d01f8789349c",
   "metadata": {},
   "outputs": [
    {
     "data": {
      "text/plain": [
       "1"
      ]
     },
     "execution_count": 58,
     "metadata": {},
     "output_type": "execute_result"
    }
   ],
   "source": [
    "df.first()._1"
   ]
  },
  {
   "cell_type": "code",
   "execution_count": 8,
   "id": "e0bc6403-df76-4186-b769-0fbc51cd4a66",
   "metadata": {},
   "outputs": [
    {
     "name": "stdout",
     "output_type": "stream",
     "text": [
      "+-------+------------------+\n",
      "|summary|                _1|\n",
      "+-------+------------------+\n",
      "|  count|                 2|\n",
      "|   mean|               1.5|\n",
      "| stddev|0.7071067811865476|\n",
      "|    min|                 1|\n",
      "|    max|                 2|\n",
      "+-------+------------------+\n",
      "\n"
     ]
    }
   ],
   "source": [
    "df.describe(\"_1\").show()"
   ]
  },
  {
   "cell_type": "code",
   "execution_count": 72,
   "id": "e874647f-927b-41f6-b23c-2c4907262540",
   "metadata": {},
   "outputs": [],
   "source": [
    "integers = [1, 2, 2, 3, 4, 4, 5]\n",
    "dfInt = spark.createDataFrame(integers, IntegerType())\n",
    "\n",
    "assert [row.value for row in dfInt.sample(True, fraction=0.5, seed=3).collect()] == [4, 5]\n",
    "assert [row.value for row in dfInt.sample(False, fraction=0.5, seed=3).collect()] == [1, 4, 4]"
   ]
  },
  {
   "cell_type": "code",
   "execution_count": 118,
   "id": "eb1bce9e-3ca2-4967-8246-c456bf1dedb6",
   "metadata": {},
   "outputs": [
    {
     "name": "stdout",
     "output_type": "stream",
     "text": [
      "+---+---+-------------------+-----+-----------+------------------------------+\n",
      "|_1 |_2 |test               |month|day_of_year|yo                            |\n",
      "+---+---+-------------------+-----+-----------+------------------------------+\n",
      "|1  |a  |2014-08-14 16:03:17|8    |226        |Thursday, Aug 14, 2014 4:03 PM|\n",
      "|2  |b  |2014-08-14 16:03:17|8    |226        |Thursday, Aug 14, 2014 4:03 PM|\n",
      "+---+---+-------------------+-----+-----------+------------------------------+\n",
      "\n"
     ]
    }
   ],
   "source": [
    "(\n",
    "    df.withColumn(\"test\", lit(1408024997).cast(\"timestamp\"))\n",
    "    .withColumn(\"month\", month(col(\"test\")))\n",
    "    .withColumn(\"day_of_year\", dayofyear(col(\"test\")))\n",
    "    .withColumn(\"yo\", from_unixtime(lit(1408024997), \"EEEE, MMM d, yyyy h:mm a\"))\n",
    "    .show(10, False)\n",
    ")"
   ]
  },
  {
   "cell_type": "code",
   "execution_count": 31,
   "id": "0f292fc1-8a3e-4554-ac66-06d19053adb6",
   "metadata": {},
   "outputs": [
    {
     "name": "stdout",
     "output_type": "stream",
     "text": [
      "+---+---+---------+---------+---------+---------+\n",
      "| _1| _2|test_na_1|test_na_2|test_na_3|test_na_4|\n",
      "+---+---+---------+---------+---------+---------+\n",
      "|  1|  a|       yo|       30|     null|        5|\n",
      "|  2|  b|       yo|       30|     null|        5|\n",
      "+---+---+---------+---------+---------+---------+\n",
      "\n"
     ]
    }
   ],
   "source": [
    "(\n",
    "    df.withColumn(\"test_na_1\", lit(None).cast(StringType()))\n",
    "    .withColumn(\"test_na_2\", lit(None).cast(IntegerType()))\n",
    "    .withColumn(\"test_na_3\", lit(None).cast(IntegerType()))\n",
    "    .withColumn(\"test_na_4\", lit(None).cast(IntegerType()))\n",
    "    .na.fill(\"yo\")\n",
    "    .na.fill({'test_na_2': 30})\n",
    "    .na.fill(5, \"test_na_4\")\n",
    "    .show()\n",
    ")"
   ]
  },
  {
   "cell_type": "code",
   "execution_count": 126,
   "id": "aa3a20d5-e8f5-4b00-a7a0-c658262a7508",
   "metadata": {},
   "outputs": [
    {
     "name": "stdout",
     "output_type": "stream",
     "text": [
      "+------+---+-------+---+\n",
      "|  name| id|   name| id|\n",
      "+------+---+-------+---+\n",
      "| Alice|  1| Franck|  3|\n",
      "| Alice|  1|Bernard|  4|\n",
      "| Alice|  1|  Ramzy|  5|\n",
      "|   Bob|  2| Franck|  3|\n",
      "|   Bob|  2|Bernard|  4|\n",
      "|   Bob|  2|  Ramzy|  5|\n",
      "|Rachid|  3| Franck|  3|\n",
      "|Rachid|  3|Bernard|  4|\n",
      "|Rachid|  3|  Ramzy|  5|\n",
      "+------+---+-------+---+\n",
      "\n",
      "+------+---+------+---+\n",
      "|  name| id|  name| id|\n",
      "+------+---+------+---+\n",
      "|Rachid|  3|Franck|  3|\n",
      "+------+---+------+---+\n",
      "\n",
      "+---+-------+\n",
      "| id|   name|\n",
      "+---+-------+\n",
      "|  1|  Alice|\n",
      "|  2|    Bob|\n",
      "|  3| Franck|\n",
      "|  3| Rachid|\n",
      "|  4|Bernard|\n",
      "|  5|  Ramzy|\n",
      "+---+-------+\n",
      "\n"
     ]
    }
   ],
   "source": [
    "a = spark.createDataFrame([(\"Alice\", 1), (\"Bob\", 2), (\"Rachid\", 3)], \"name:string, id: int\")\n",
    "b = spark.createDataFrame([(\"Franck\", 3), (\"Bernard\", 4), (\"Ramzy\", 5)], \"name:string, id: int\")\n",
    "\n",
    "a.crossJoin(b).show()\n",
    "a.join(b, a.id == b.id).show()\n",
    "a.join(b, [\"id\", \"name\"], \"outer\").show()"
   ]
  },
  {
   "cell_type": "code",
   "execution_count": 25,
   "id": "33a51720-6f4d-4fc4-a0d9-7f2c56493e10",
   "metadata": {},
   "outputs": [
    {
     "name": "stdout",
     "output_type": "stream",
     "text": [
      "root\n",
      " |-- _1: long (nullable = true)\n",
      " |-- _2: string (nullable = true)\n",
      " |-- test: string (nullable = true)\n",
      "\n",
      "root\n",
      " |-- _1: long (nullable = true)\n",
      " |-- _2: string (nullable = true)\n",
      " |-- test: string (nullable = true)\n",
      "\n"
     ]
    }
   ],
   "source": [
    "df.withColumn(\"test\", col(\"_1\").cast(StringType())).printSchema()\n",
    "df.withColumn(\"test\", col(\"_1\").cast(\"string\")).printSchema()"
   ]
  },
  {
   "cell_type": "code",
   "execution_count": 75,
   "id": "d36ae886-3022-449f-b3cd-d1c9b11450ae",
   "metadata": {},
   "outputs": [
    {
     "name": "stdout",
     "output_type": "stream",
     "text": [
      "23/12/13 22:06:01 WARN SimpleFunctionRegistry: The function add_42 replaced a previously registered function.\n",
      "+----------+---+\n",
      "|ADD_42(_1)| _1|\n",
      "+----------+---+\n",
      "|        43|  1|\n",
      "|        44|  2|\n",
      "+----------+---+\n",
      "\n"
     ]
    }
   ],
   "source": [
    "def add42(n):\n",
    "    return n + 42\n",
    "    \n",
    "df.createOrReplaceTempView(\"test\")\n",
    "\n",
    "spark.udf.register(\"ADD_42\", add42)\n",
    "\n",
    "spark.sql(\"select ADD_42(_1), _1 from test\").show()"
   ]
  },
  {
   "cell_type": "code",
   "execution_count": 76,
   "id": "366aaf84-9999-47c2-ab54-e3637d30f82e",
   "metadata": {},
   "outputs": [
    {
     "name": "stdout",
     "output_type": "stream",
     "text": [
      "+---+---+----+\n",
      "| _1| _2|test|\n",
      "+---+---+----+\n",
      "|  1|  a|  10|\n",
      "|  2|  b|  20|\n",
      "+---+---+----+\n",
      "\n"
     ]
    }
   ],
   "source": [
    "def multiply_by_10(n):\n",
    "    return n * 10\n",
    "\n",
    "multiply_by_10_UDF = udf(multiply_by_10, IntegerType())\n",
    "\n",
    "df.withColumn(\"test\", multiply_by_10_UDF(\"_1\")).show()"
   ]
  },
  {
   "cell_type": "code",
   "execution_count": 108,
   "id": "ad73f404-a4e8-4b53-b642-3088ce680fcd",
   "metadata": {},
   "outputs": [
    {
     "name": "stdout",
     "output_type": "stream",
     "text": [
      "Disk Memory Deserialized 1x Replicated\n",
      "Memory Serialized 1x Replicated\n"
     ]
    }
   ],
   "source": [
    "from pyspark import StorageLevel\n",
    "\n",
    "# cache in MEMORY_AND_DISK_DESER (default)\n",
    "df.cache().count()\n",
    "assert str(df.storageLevel).startswith(\"Disk\") == True\n",
    "print(df.storageLevel)\n",
    "\n",
    "df.unpersist()\n",
    "\n",
    "# cache in MEMORY_ONLY\n",
    "df.persist(StorageLevel.MEMORY_ONLY)\n",
    "assert str(df.storageLevel).startswith(\"Memory\") == True\n",
    "print(df.storageLevel)\n",
    "\n",
    "df.unpersist()\n",
    "\n",
    "assert df.is_cached == False"
   ]
  },
  {
   "cell_type": "code",
   "execution_count": null,
   "id": "bf17c762-dddf-4da1-908a-69c32d809e4f",
   "metadata": {},
   "outputs": [],
   "source": []
  },
  {
   "cell_type": "code",
   "execution_count": null,
   "id": "5af6b796-f9e5-4a7a-9f0e-bf59292994e6",
   "metadata": {},
   "outputs": [],
   "source": []
  }
 ],
 "metadata": {
  "kernelspec": {
   "display_name": "Python 3 (ipykernel)",
   "language": "python",
   "name": "python3"
  },
  "language_info": {
   "codemirror_mode": {
    "name": "ipython",
    "version": 3
   },
   "file_extension": ".py",
   "mimetype": "text/x-python",
   "name": "python",
   "nbconvert_exporter": "python",
   "pygments_lexer": "ipython3",
   "version": "3.8.10"
  }
 },
 "nbformat": 4,
 "nbformat_minor": 5
}
